{
 "cells": [
  {
   "cell_type": "code",
   "id": "initial_id",
   "metadata": {
    "collapsed": true,
    "ExecuteTime": {
     "end_time": "2025-08-16T22:58:01.436443Z",
     "start_time": "2025-08-16T22:58:01.432925Z"
    }
   },
   "source": [
    "import numpy as np\n",
    "from typing import Iterable, Set, Tuple, List\n",
    "from itertools import combinations\n",
    "from math import inf\n",
    "import matplotlib.pyplot as plt\n",
    "import matplotlib.patches as patches"
   ],
   "outputs": [],
   "execution_count": 20
  },
  {
   "metadata": {
    "ExecuteTime": {
     "end_time": "2025-08-16T22:58:01.449363Z",
     "start_time": "2025-08-16T22:58:01.446456Z"
    }
   },
   "cell_type": "code",
   "source": [
    "Rect1D = Tuple[int, int, int]        # (start_time, end_time, bandwidth)\n",
    "Rect2D = Tuple[int, int, int, int]   # (x1, x2, y1, y2)\n",
    "Slots1D = Iterable[Rect1D]\n",
    "Slots2D = Set[Rect2D]"
   ],
   "id": "f14784d60f42f959",
   "outputs": [],
   "execution_count": 21
  },
  {
   "metadata": {
    "ExecuteTime": {
     "end_time": "2025-08-16T22:58:01.473731Z",
     "start_time": "2025-08-16T22:58:01.470730Z"
    }
   },
   "cell_type": "code",
   "source": [
    "# unavailable_slots：(start_time, end_time, bandwidth)\n",
    "unavailable_slots = {(5, 10, 20)}\n",
    "total_slots = {(0, 15, 40)}\n",
    "request_r = [(200, 1), (120, 2), (200, 3), (200, 9)]"
   ],
   "id": "bede1b478abf2426",
   "outputs": [],
   "execution_count": 22
  },
  {
   "metadata": {
    "ExecuteTime": {
     "end_time": "2025-08-16T22:58:01.490218Z",
     "start_time": "2025-08-16T22:58:01.487249Z"
    }
   },
   "cell_type": "code",
   "source": [
    "#Tracking Bandwidth Usage\n",
    "current_bandwidth_usage = {}  # {time_point: current_max_bandwidth_used}\n",
    "\n",
    "def get_current_max_bandwidth(x1, x2):\n",
    "    \"\"\"Get the current maximum bandwidth used in the time range [x1, x2]\"\"\"\n",
    "    max_used = 0\n",
    "    for t in range(x1, x2):\n",
    "        max_used = max(max_used, current_bandwidth_usage.get(t, 0))\n",
    "    return max_used\n",
    "\n",
    "def update_bandwidth_usage(x1, x2, y1, y2):\n",
    "    \"\"\"Update the bandwidth usage for the time range [x1, x2]\"\"\"\n",
    "    for t in range(x1, x2):\n",
    "        current_bandwidth_usage[t] = max(current_bandwidth_usage.get(t, 0), y2)"
   ],
   "id": "1359db8748b49611",
   "outputs": [],
   "execution_count": 23
  },
  {
   "metadata": {
    "ExecuteTime": {
     "end_time": "2025-08-16T22:58:01.516719Z",
     "start_time": "2025-08-16T22:58:01.512712Z"
    }
   },
   "cell_type": "code",
   "source": [
    "def get_next_slot(unavailable: Slots1D, total: Slots1D) -> List[Rect2D]:\n",
    "    \"\"\"\n",
    "    Compute available regions by subtracting unavailable from total,\n",
    "    resulting in available bandwidth rectangle regions\n",
    "    \"\"\"\n",
    "    res: Slots2D = set()\n",
    "    for t_x1, t_x2, t_h in total:\n",
    "        y_breaks = {0, t_h}\n",
    "        y_breaks.update(uh for _, _, uh in unavailable if uh < t_h)\n",
    "        y_sorted = sorted(y_breaks)\n",
    "        for idx, y1 in enumerate(y_sorted[:-1]):\n",
    "            next_y, last_y = y_sorted[idx + 1], y_sorted[-1]\n",
    "            for y2 in (next_y, last_y):\n",
    "                if y2 <= y1:\n",
    "                    continue\n",
    "                x2_limit = t_x2\n",
    "                for u_x1, _, u_h in sorted(unavailable, key=lambda u: u[0]):\n",
    "                    if u_h > y1 and u_x1 < x2_limit:\n",
    "                        x2_limit = u_x1\n",
    "                        break\n",
    "                res.add((t_x1, x2_limit, y1, y2))\n",
    "    return sorted(res, key=lambda r: (r[2], r[0], -r[3], r[1]))"
   ],
   "id": "8e8f7957d73cb393",
   "outputs": [],
   "execution_count": 24
  },
  {
   "metadata": {
    "ExecuteTime": {
     "end_time": "2025-08-16T22:58:01.538531Z",
     "start_time": "2025-08-16T22:58:01.535746Z"
    }
   },
   "cell_type": "code",
   "source": [
    "def compute_slot_areas(slots: List[Rect2D]) -> List[int]:\n",
    "    \"\"\"Compute area of each slot for available list\"\"\"\n",
    "    return [(x2 - x1) * (y2 - y1) for x1, x2, y1, y2 in slots]"
   ],
   "id": "e5d2ca0cb6de497a",
   "outputs": [],
   "execution_count": 25
  },
  {
   "metadata": {
    "ExecuteTime": {
     "end_time": "2025-08-16T22:58:01.552525Z",
     "start_time": "2025-08-16T22:58:01.548526Z"
    }
   },
   "cell_type": "code",
   "source": [
    "slot_areas = compute_slot_areas(get_next_slot(unavailable_slots, total_slots))\n",
    "slot_areas"
   ],
   "id": "e38d4b9429bab841",
   "outputs": [
    {
     "data": {
      "text/plain": [
       "[200, 100, 300]"
      ]
     },
     "execution_count": 26,
     "metadata": {},
     "output_type": "execute_result"
    }
   ],
   "execution_count": 26
  },
  {
   "metadata": {
    "ExecuteTime": {
     "end_time": "2025-08-16T22:58:01.582398Z",
     "start_time": "2025-08-16T22:58:01.578985Z"
    }
   },
   "cell_type": "code",
   "source": [
    "def r_sorted_by_area(rules: List[Tuple[int, int]], reverse: bool = False) -> List[Tuple[int, int]]:\n",
    "    \"\"\"\n",
    "    Generate [(size, r_id)] sorted by size\n",
    "    :param rules: [(size, priority)]\n",
    "    :param reverse: whether to sort in descending order\n",
    "    :return: [(size, r_id)]\n",
    "    \"\"\"\n",
    "    r_with_index = [(size, idx + 1) for idx, (size, _) in enumerate(rules)]\n",
    "    return sorted(r_with_index, key=lambda x: x[0], reverse=reverse)\n",
    "\n",
    "# Replace old inserted_r -> rules\n",
    "request_areas = r_sorted_by_area(request_r)"
   ],
   "id": "2afb260a22001bb7",
   "outputs": [],
   "execution_count": 27
  },
  {
   "metadata": {
    "ExecuteTime": {
     "end_time": "2025-08-16T22:58:01.601074Z",
     "start_time": "2025-08-16T22:58:01.597426Z"
    }
   },
   "cell_type": "code",
   "source": [
    "def ordinal(n: int) -> str:\n",
    "    \"\"\"Return ordinal string, e.g., 1->1st, 2->2nd\"\"\"\n",
    "    return f\"{n}{'st' if n==1 else 'nd' if n==2 else 'rd' if n==3 else 'th'}\""
   ],
   "id": "5abe283e5b755059",
   "outputs": [],
   "execution_count": 28
  },
  {
   "metadata": {
    "ExecuteTime": {
     "end_time": "2025-08-16T22:58:01.625935Z",
     "start_time": "2025-08-16T22:58:01.621799Z"
    }
   },
   "cell_type": "code",
   "source": [
    "def can_fit_all_remaining_requests(r_remaining, current_slot_area):\n",
    "    r_sum = sum(area for area, _ in r_remaining)\n",
    "    return r_sum <= current_slot_area"
   ],
   "id": "b12e73e42a098d94",
   "outputs": [],
   "execution_count": 29
  },
  {
   "metadata": {
    "ExecuteTime": {
     "end_time": "2025-08-16T22:58:01.643499Z",
     "start_time": "2025-08-16T22:58:01.639499Z"
    }
   },
   "cell_type": "code",
   "source": [
    "def allocate_requests_in_slot(slot_rect, requests):\n",
    "    \"\"\"Fixed allocation function that correctly handles bandwidth stacking\"\"\"\n",
    "    allocation = []\n",
    "    wasted = []\n",
    "    x1, x2, y1, y2 = slot_rect\n",
    "    width = x2 - x1\n",
    "\n",
    "    # Get the current maximum used bandwidth in the time period\n",
    "    current_max_used = get_current_max_bandwidth(x1, x2)\n",
    "\n",
    "    # Start allocation from the max(current, y1) \n",
    "    y_cursor = max(y1, current_max_used)\n",
    "\n",
    "    for area, rid in requests:\n",
    "        h = area / width\n",
    "        allocation.append((x1, x2, y_cursor, y_cursor + h, rid))\n",
    "        # Update bandwidth usage\n",
    "        update_bandwidth_usage(x1, x2, y_cursor, y_cursor + h)\n",
    "        y_cursor += h\n",
    "    # Calculate unused area\n",
    "    if y_cursor < y2:\n",
    "        wasted.append((x1, x2, y_cursor, y2))\n",
    "\n",
    "    return allocation, wasted\n"
   ],
   "id": "a8de6e68039363bb",
   "outputs": [],
   "execution_count": 30
  },
  {
   "metadata": {
    "ExecuteTime": {
     "end_time": "2025-08-16T22:58:01.653196Z",
     "start_time": "2025-08-16T22:58:01.648738Z"
    }
   },
   "cell_type": "code",
   "source": [
    "def find_best_fit_groups(r_remaining, current_slot_area):\n",
    "    best_under, best_under_sum = (), 0\n",
    "    best_over, best_over_sum = (), inf\n",
    "    for n in range(1, len(r_remaining) + 1):\n",
    "        for combo in combinations(r_remaining, n):\n",
    "            s = sum(area for area, _ in combo)\n",
    "            # best fit within capacity\n",
    "            if s <= current_slot_area and s > best_under_sum:\n",
    "                best_under, best_under_sum = combo, s\n",
    "                if s == current_slot_area:\n",
    "                    break\n",
    "            # best fit over capacity\n",
    "            elif s > current_slot_area and s < best_over_sum:\n",
    "                best_over, best_over_sum = combo, s\n",
    "        # find the perfect fit\n",
    "        if best_under_sum == current_slot_area:\n",
    "            break\n",
    "    return best_under, best_under_sum, best_over, best_over_sum"
   ],
   "id": "fa04d20fa90a5cd5",
   "outputs": [],
   "execution_count": 31
  },
  {
   "metadata": {
    "ExecuteTime": {
     "end_time": "2025-08-16T22:58:01.661403Z",
     "start_time": "2025-08-16T22:58:01.658922Z"
    }
   },
   "cell_type": "code",
   "source": [
    "def evaluate_blank2_area(best_over_sum, current_slot_area, current_slot_rect, next_slot_rect):\n",
    "    x1, x2, y1, y2 = current_slot_rect\n",
    "    width = x2 - x1\n",
    "    overflow_h = (best_over_sum - current_slot_area) / width\n",
    "    if not next_slot_rect:\n",
    "        return inf\n",
    "    next_x1, next_x2, _, _ = next_slot_rect\n",
    "    return overflow_h * abs(next_x2 - x2)"
   ],
   "id": "258659650ecfac86",
   "outputs": [],
   "execution_count": 32
  },
  {
   "metadata": {
    "ExecuteTime": {
     "end_time": "2025-08-16T22:58:01.673475Z",
     "start_time": "2025-08-16T22:58:01.670425Z"
    }
   },
   "cell_type": "code",
   "source": [
    "def apply_overflow_penalty_to_next_slots(slot_rects, slot_area_list, i, delta_h):\n",
    "    for j in (i + 1, i + 2):\n",
    "        if j >= len(slot_rects):\n",
    "            break\n",
    "        x1, x2, y1, y2 = slot_rects[j]\n",
    "        new_y2 = y2 - delta_h\n",
    "        if new_y2 <= y1:\n",
    "            slot_rects.pop(j)\n",
    "            slot_area_list.pop(j)\n",
    "        else:\n",
    "            slot_rects[j] = (x1, x2, y1, new_y2)\n",
    "            slot_area_list[j] = (x2 - x1) * (new_y2 - y1)"
   ],
   "id": "40048088a60f9107",
   "outputs": [],
   "execution_count": 33
  },
  {
   "metadata": {
    "ExecuteTime": {
     "end_time": "2025-08-16T22:58:01.682450Z",
     "start_time": "2025-08-16T22:58:01.679569Z"
    }
   },
   "cell_type": "code",
   "source": [
    "def calculate_priority_bandwidth_ratio(original_prio, priority):\n",
    "    \"\"\"\n",
    "    Higher priority (larger number) gets more bandwidth\n",
    "    \"\"\"\n",
    "    # check if the request list have the same priority, if yes, with same width\n",
    "    unique_priorities = sorted(set(priority), reverse=True)\n",
    "    if len(unique_priorities) == 1:\n",
    "        return 1.0\n",
    "\n",
    "    return float(original_prio)"
   ],
   "id": "6bf80fadb5d2bffc",
   "outputs": [],
   "execution_count": 34
  },
  {
   "metadata": {
    "ExecuteTime": {
     "end_time": "2025-08-16T22:58:01.696019Z",
     "start_time": "2025-08-16T22:58:01.688001Z"
    }
   },
   "cell_type": "code",
   "source": [
    "def allocate_requests_fill_bandwidth(slot_rect, requests):\n",
    "    \"\"\"\n",
    "    TODO COMPLETED: Priority-based bandwidth allocation\n",
    "    Calculate height first based on priority ratio, then calculate individual widths\n",
    "    Each request gets different width based on its size/height ratio\n",
    "    \"\"\"\n",
    "    allocation = []\n",
    "    wasted = []\n",
    "    x1, x2, y1, y2 = slot_rect\n",
    "\n",
    "    # Get current max bandwidth usage\n",
    "    max_used_bandwidth = get_current_max_bandwidth(int(x1), int(x2))\n",
    "    effective_y1 = max(y1, max_used_bandwidth)\n",
    "    effective_height = y2 - effective_y1\n",
    "\n",
    "    if effective_height <= 0 or not requests:\n",
    "        if effective_height <= 0:\n",
    "            wasted.append((x1, x2, y1, y2))\n",
    "        return allocation, wasted\n",
    "\n",
    "    # Check if this is the final allocation where all remaining requests fit\n",
    "    total_size = sum(area for area, _ in requests)\n",
    "\n",
    "    #  if there is only one left, then fit the rest of bandwidth\n",
    "    if len(requests) == 1:\n",
    "        area, rid = requests[0]\n",
    "        # Use all available bandwidth height for the single request\n",
    "        height = effective_height\n",
    "        width = area / height if height > 0 else 0\n",
    "\n",
    "        # Ensure width doesn't exceed slot width\n",
    "        slot_width = x2 - x1\n",
    "        if width > slot_width:\n",
    "            width = slot_width\n",
    "            height = area / width if width > 0 else 0\n",
    "\n",
    "        x_end = x1 + width\n",
    "        y_end = effective_y1 + height\n",
    "\n",
    "        allocation.append((x1, x_end, effective_y1, y_end, rid))\n",
    "        update_bandwidth_usage(int(x1), int(x_end), effective_y1, y_end)\n",
    "\n",
    "        # Calculate unused area if any\n",
    "        if y_end < y2:\n",
    "            wasted.append((x1, x2, y_end, y2))\n",
    "\n",
    "        return allocation, wasted\n",
    "    # By priority, determine the area\n",
    "    if len(requests) > 1 and total_size <= (effective_height * (x2 - x1)):\n",
    "        # get the all priorities and calculate ratios\n",
    "        all_priorities = [request_r[rid - 1][1] for area, rid in requests]\n",
    "        request_data = []\n",
    "        total_priority_sum = 0\n",
    "\n",
    "        for area, rid in requests:\n",
    "            original_priority = request_r[rid - 1][1]  # rid is 1-indexed\n",
    "            priority_ratio = calculate_priority_bandwidth_ratio(original_priority, all_priorities)\n",
    "            total_priority_sum += priority_ratio\n",
    "\n",
    "            request_data.append({\n",
    "                'area': area,\n",
    "                'rid': rid,\n",
    "                'priority': original_priority,\n",
    "                'ratio': priority_ratio\n",
    "            })\n",
    "\n",
    "        # calculate height for based on priority ratio\n",
    "        y_cursor = effective_y1\n",
    "        max_width_needed = 0\n",
    "\n",
    "        for req_data in request_data:\n",
    "            height_ratio = req_data['ratio'] / total_priority_sum\n",
    "            height = effective_height * height_ratio\n",
    "\n",
    "            width = req_data['area'] / height if height > 0 else 0\n",
    "            max_width_needed = max(max_width_needed, width)\n",
    "\n",
    "            req_data['height'] = height\n",
    "            req_data['width'] = width\n",
    "\n",
    "        # Check if all requests can fit within the slot width\n",
    "        slot_width = x2 - x1\n",
    "        if max_width_needed <= slot_width:\n",
    "            # All requests fit, allocate with individual widths\n",
    "            for req_data in request_data:\n",
    "                width = req_data['width']\n",
    "                height = req_data['height']\n",
    "\n",
    "                x_end = x1 + width\n",
    "                y_end = y_cursor + height\n",
    "\n",
    "                allocation.append((x1, x_end, y_cursor, y_end, req_data['rid']))\n",
    "                update_bandwidth_usage(int(x1), int(x_end), y_cursor, y_end)\n",
    "\n",
    "                y_cursor = y_end\n",
    "\n",
    "        else:\n",
    "            # Not all requests fit with individual widths, scale down proportionally\n",
    "            scale_factor = slot_width / max_width_needed\n",
    "\n",
    "            for req_data in request_data:\n",
    "                width = req_data['width'] * scale_factor\n",
    "                height = req_data['height']\n",
    "\n",
    "                x_end = x1 + width\n",
    "                y_end = y_cursor + height\n",
    "\n",
    "                allocation.append((x1, x_end, y_cursor, y_end, req_data['rid']))\n",
    "                update_bandwidth_usage(int(x1), int(x_end), y_cursor, y_end)\n",
    "                y_cursor = y_end\n",
    "\n",
    "    else:\n",
    "        return allocate_requests_in_slot(slot_rect, requests)\n",
    "\n",
    "    return allocation, wasted"
   ],
   "id": "43cc4ec3fcddb120",
   "outputs": [],
   "execution_count": 35
  },
  {
   "metadata": {
    "ExecuteTime": {
     "end_time": "2025-08-16T22:58:01.710035Z",
     "start_time": "2025-08-16T22:58:01.702529Z"
    }
   },
   "cell_type": "code",
   "source": [
    "def find_r_slot_with_allocation(\n",
    "    r_list: List[Tuple[int, int]],\n",
    "    slot_area_list: List[int],\n",
    "    slot_rects: List[Rect2D]\n",
    ") -> Tuple[List[str], List[Tuple[int, int, float, float, int]], List[Rect2D], float, float]:\n",
    "    # Reset global bandwidth usage\n",
    "    global current_bandwidth_usage\n",
    "    current_bandwidth_usage = {}\n",
    "\n",
    "    # Initialize bandwidth usage with unavailable slots\n",
    "    for x1, x2, h in unavailable_slots:\n",
    "        for t in range(x1, x2):\n",
    "            current_bandwidth_usage[t] = h\n",
    "\n",
    "    result = []\n",
    "    r_remaining = r_list[:]\n",
    "    allocation = []\n",
    "    wasted = []\n",
    "\n",
    "    total_r_area = sum(area for area, _ in r_remaining)\n",
    "    even_slot_sum = sum(slot_area_list[i] for i in range(1, len(slot_area_list)-1, 2)) if len(slot_area_list) > 1 else 0\n",
    "    last_slot_area = slot_area_list[-1] if slot_area_list else 0\n",
    "    total_available_area = even_slot_sum + last_slot_area\n",
    "\n",
    "    slot_index = 1\n",
    "    i = 0\n",
    "    compare_mode = True\n",
    "\n",
    "    while r_remaining and i < len(slot_area_list):\n",
    "        current_slot_area = slot_area_list[i]\n",
    "        current_slot_rect = slot_rects[i]\n",
    "        #print(current_slot_rect)\n",
    "        if i == len(slot_area_list) - 1:  # 最后一个slot\n",
    "            r_remaining_total_area = sum(area for area, _ in r_remaining)\n",
    "            if r_remaining_total_area > current_slot_area:\n",
    "                print(f\"Out of range: Remaining requests total area ({r_remaining_total_area}) exceeds final slot area ({current_slot_area})\")\n",
    "\n",
    "        if compare_mode:\n",
    "            # check if all remaining requests fit\n",
    "            if can_fit_all_remaining_requests(r_remaining, current_slot_area):\n",
    "                result.append(f\"All remaining requests {r_remaining} fitted in the {ordinal(slot_index)} area\")\n",
    "\n",
    "                alloc, waste = allocate_requests_fill_bandwidth(current_slot_rect, r_remaining)\n",
    "                allocation.extend(alloc)\n",
    "                wasted.extend(waste)\n",
    "                return result, allocation, wasted, total_available_area, total_r_area\n",
    "            # Move to next slot\n",
    "            i += 1\n",
    "            slot_index += 1\n",
    "            compare_mode = False\n",
    "            continue\n",
    "        #find best fit for current slot\n",
    "        best_under, best_under_sum, best_over, best_over_sum = find_best_fit_groups(r_remaining, current_slot_area)\n",
    "        #print(f\"  best_under: {best_under}, sum: {best_under_sum}\")\n",
    "        #print(f\"  best_over: {best_over}, sum: {best_over_sum}\")\n",
    "\n",
    "        #Calculate waste\n",
    "        blank_1 = (current_slot_area - best_under_sum) if best_under else inf\n",
    "        blank_2 = inf\n",
    "        if best_over and i + 1 < len(slot_rects):\n",
    "            blank_2 = evaluate_blank2_area(best_over_sum, current_slot_area, current_slot_rect, slot_rects[i + 1])\n",
    "\n",
    "        #print(f\"  blank_1: {blank_1}, blank_2: {blank_2}\")\n",
    "\n",
    "        if best_under and best_under_sum <= current_slot_area:\n",
    "            best_fit_group = best_under\n",
    "            #print(f\"  Choose best_under: {best_fit_group}\")\n",
    "        elif best_over and blank_2 < current_slot_area:\n",
    "            best_fit_group = best_over\n",
    "            #print(f\" Choose best_over: {best_fit_group}\")\n",
    "        else:\n",
    "            # Skip if no fitted set of requests\n",
    "            result.append(f\"No requests fit in the {ordinal(slot_index)} area\")\n",
    "            #print(f\"Skip the area\")\n",
    "            i += 1\n",
    "            slot_index += 1\n",
    "            compare_mode = True\n",
    "            continue\n",
    "\n",
    "        result.append(f\"Requests {list(best_fit_group)} fitted in the {ordinal(slot_index)} area\")\n",
    "        alloc, waste = allocate_requests_in_slot(current_slot_rect, best_fit_group)\n",
    "        allocation.extend(alloc)\n",
    "        wasted.extend(waste)\n",
    "        # Remove allocated requests from remaining list\n",
    "        for val in best_fit_group:\n",
    "            r_remaining.remove(val)\n",
    "\n",
    "        if best_fit_group == best_over and i + 1 < len(slot_rects):\n",
    "            x1, x2, _, _ = current_slot_rect\n",
    "            delta_h = (best_over_sum - current_slot_area) / (x2 - x1)\n",
    "            apply_overflow_penalty_to_next_slots(slot_rects, slot_area_list, i, delta_h)\n",
    "\n",
    "        i += 1\n",
    "        slot_index += 1\n",
    "        compare_mode = True\n",
    "    # all the remaining unallocated requests in the last slot\n",
    "    if r_remaining:\n",
    "        result.append(f\"These requests fit in the last area: {r_remaining}\")\n",
    "        alloc, waste = allocate_requests_in_slot(slot_rects[-1], r_remaining)\n",
    "        allocation.extend(alloc)\n",
    "        wasted.extend(waste)\n",
    "\n",
    "    return result, allocation, wasted, total_available_area, total_r_area"
   ],
   "id": "4960dd62d759a4b7",
   "outputs": [],
   "execution_count": 36
  },
  {
   "metadata": {
    "ExecuteTime": {
     "end_time": "2025-08-16T22:58:01.721801Z",
     "start_time": "2025-08-16T22:58:01.714576Z"
    }
   },
   "cell_type": "code",
   "source": [
    "def visualize_integrated_schedule(request_r, unavailable_slots, total_slots, allocations, waste_rects):\n",
    "    \"\"\"\n",
    "    Integrated visualization function that combines both approaches\n",
    "    \"\"\"\n",
    "    fig, ax = plt.subplots(figsize=(12, 8))\n",
    "    max_time = 0\n",
    "    if unavailable_slots:\n",
    "        max_time = max(max_time, max(end for _, end, _ in unavailable_slots))\n",
    "    if allocations:\n",
    "        max_time = max(max_time, max(x2 for x1, x2, _, _, _ in allocations))\n",
    "    max_time = max(max_time, 30)  # Minimum time range\n",
    "    \n",
    "    # Get bandwidth from total_slots\n",
    "    total_bandwidth = next(iter(total_slots))[2] if total_slots else 100\n",
    "    \n",
    "    # total area boundary\n",
    "    for x1, x2, h in total_slots:\n",
    "        ax.add_patch(patches.Rectangle((x1, 0), x2 - x1, h, \n",
    "                                     fill=False, edgecolor='black', linewidth=2))\n",
    "    \n",
    "    # unavailable slots\n",
    "    for x1, x2, h in unavailable_slots:\n",
    "        ax.add_patch(patches.Rectangle((x1, 0), x2 - x1, h, \n",
    "                                     color='red', alpha=0.6, label=\"Unavailable\"))\n",
    "        ax.text((x1 + x2) / 2, h/2, f'Reserved\\n{h} BW', \n",
    "               ha='center', va='center', fontsize=8, color='white', weight='bold')\n",
    "    \n",
    "    # allocated requests\n",
    "    for x1, x2, y1, y2, rid in allocations:\n",
    "        ax.add_patch(patches.Rectangle((x1, y1), x2 - x1, y2 - y1, \n",
    "                                     color='blue', alpha=0.7))\n",
    "\n",
    "        size, priority = request_r[rid - 1]\n",
    "        height = y2 - y1\n",
    "        width = x2 - x1\n",
    "\n",
    "        label = f'R{rid}\\nSize: {size}\\nPrio: {priority}\\nBW: {height:.1f}'\n",
    "        ax.text(x1 + width/2, y1 + height/2, label, \n",
    "               ha='center', va='center', fontsize=8, color='white', weight='bold')\n",
    "    \n",
    "    info_x = max_time + 2\n",
    "    info_y = total_bandwidth - 5\n",
    "    dy = total_bandwidth / 15\n",
    "    \n",
    "    ax.text(info_x, info_y, \"Requests (size, priority, height):\", fontsize=10, weight='bold')\n",
    "    info_y -= dy\n",
    "\n",
    "    rid_to_height = {}\n",
    "    for x1, x2, y1, y2, rid in allocations:\n",
    "        height = y2 - y1\n",
    "        rid_to_height[rid] = height\n",
    "    \n",
    "    for i, (size, priority) in enumerate(request_r, 1):\n",
    "        height = f\"{rid_to_height.get(i, 0):.1f}\" if i in rid_to_height else \"0\"\n",
    "        ax.text(info_x, info_y, f\"R{i}: ({size}, {priority}, {height})\", fontsize=9)\n",
    "        info_y -= dy\n",
    "    \n",
    "    ax.set_xlim(0, max_time + 8)\n",
    "    ax.set_ylim(0, total_bandwidth + 5)\n",
    "    ax.set_xlabel('Time', fontsize=12)\n",
    "    ax.set_ylabel('Bandwidth', fontsize=12)\n",
    "    ax.set_title('Integrated Bandwidth Allocation Visualization', fontsize=14, weight='bold')\n",
    "    ax.grid(True, alpha=0.3)\n",
    "    \n",
    "    handles = []\n",
    "    if unavailable_slots:\n",
    "        handles.append(patches.Patch(color='red', alpha=0.6, label='Unavailable/Reserved'))\n",
    "    if allocations:\n",
    "        handles.append(patches.Patch(color='blue', alpha=0.7, label='Allocated Requests')) \n",
    "    if handles:\n",
    "        ax.legend(handles=handles, loc='upper right')\n",
    "    \n",
    "    plt.tight_layout()\n",
    "    plt.show()\n"
   ],
   "id": "85a2d779c10f36d6",
   "outputs": [],
   "execution_count": 37
  },
  {
   "metadata": {
    "ExecuteTime": {
     "end_time": "2025-08-16T22:58:01.871292Z",
     "start_time": "2025-08-16T22:58:01.731341Z"
    }
   },
   "cell_type": "code",
   "source": [
    "if __name__ == \"__main__\":\n",
    "    slot_rects = get_next_slot(unavailable_slots, total_slots)\n",
    "    slot_areas = compute_slot_areas(slot_rects)\n",
    "    request_areas = r_sorted_by_area(request_r)\n",
    "    \n",
    "    result_texts, allocations, waste_rects, total_available_area, total_r_area = find_r_slot_with_allocation(\n",
    "        request_areas, slot_areas, slot_rects)\n",
    "    \n",
    "    \n",
    "    print(\"\\n--- Allocation Details ---\")\n",
    "    for x1, x2, y1, y2, rid in allocations:\n",
    "        print(f\"R{rid}: time [{x1:.1f}, {x2:.1f}], bandwidth [{y1:.2f}, {y2:.2f}], height: {y2-y1:.2f}\")\n",
    "    \n",
    "    if total_available_area < total_r_area:\n",
    "        print(f\"\\nWarning: Need to extend space (available: {total_available_area}, required: {total_r_area})\")\n",
    "    \n",
    "    # 显示可视化\n",
    "    visualize_integrated_schedule(request_r, unavailable_slots, total_slots, allocations, waste_rects)"
   ],
   "id": "bc31ff5d38958e46",
   "outputs": [
    {
     "name": "stdout",
     "output_type": "stream",
     "text": [
      "Out of range: Remaining requests total area (600) exceeds final slot area (240.0)\n",
      "\n",
      "--- Allocation Details ---\n",
      "R2: time [0.0, 5.0], bandwidth [0.00, 24.00], height: 24.00\n",
      "R1: time [0.0, 15.0], bandwidth [24.00, 37.33], height: 13.33\n",
      "R3: time [0.0, 15.0], bandwidth [37.33, 50.67], height: 13.33\n",
      "R4: time [0.0, 15.0], bandwidth [50.67, 64.00], height: 13.33\n",
      "\n",
      "Warning: Need to extend space (available: 400, required: 720)\n"
     ]
    },
    {
     "data": {
      "text/plain": [
       "<Figure size 1200x800 with 1 Axes>"
      ],
      "image/png": "[encoded data removed]"
     },
     "metadata": {},
     "output_type": "display_data"
    }
   ],
   "execution_count": 38
  }
 ],
 "metadata": {
  "kernelspec": {
   "display_name": "Python 3",
   "language": "python",
   "name": "python3"
  },
  "language_info": {
   "codemirror_mode": {
    "name": "ipython",
    "version": 2
   },
   "file_extension": ".py",
   "mimetype": "text/x-python",
   "name": "python",
   "nbconvert_exporter": "python",
   "pygments_lexer": "ipython2",
   "version": "2.7.6"
  }
 },
 "nbformat": 4,
 "nbformat_minor": 5
}
