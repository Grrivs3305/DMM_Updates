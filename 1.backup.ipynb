{
 "cells": [
  {
   "metadata": {
    "ExecuteTime": {
     "end_time": "2025-07-16T21:59:11.201501Z",
     "start_time": "2025-07-16T21:59:11.197494Z"
    }
   },
   "cell_type": "code",
   "source": [
    "import numpy as np\n",
    "from typing import Iterable, Set, Tuple, List\n",
    "from itertools import combinations\n",
    "from math import inf"
   ],
   "id": "56aa742ed176ccaf",
   "outputs": [],
   "execution_count": 63
  },
  {
   "metadata": {
    "ExecuteTime": {
     "end_time": "2025-07-16T21:59:11.217315Z",
     "start_time": "2025-07-16T21:59:11.213031Z"
    }
   },
   "cell_type": "code",
   "source": [
    "#unavaliable slots\n",
    "#Assume slots:(start_time, end_time, bandwidth)\n",
    "unavailable_slots = {(5, 10, 5),(15, 20, 10),(25, 30, 13)}\n",
    "total_slots = {(0, 35, 15)}\n",
    "# Assume r: (start_time. end_time, bandwidth)\n",
    "#Todo: need to change the format of r into gigabits: (gigabits, priority)\n",
    "inserted_r = [(3,9,1),(5,9,11),(0,3,16),(10,15,12),(11,15,5)]"
   ],
   "id": "145fc6f6d86d5b2b",
   "outputs": [],
   "execution_count": 64
  },
  {
   "metadata": {
    "ExecuteTime": {
     "end_time": "2025-07-16T21:59:11.232355Z",
     "start_time": "2025-07-16T21:59:11.225350Z"
    }
   },
   "cell_type": "code",
   "source": [
    "Rect1D   = Tuple[int, int, int]          # only consider time difference\n",
    "Rect2D   = Tuple[int, int, int, int]     # considering bandwidth and time difference\n",
    "Slots1D  = Iterable[Rect1D]\n",
    "Slots2D  = Set[Rect2D]\n",
    "# result (start_time, end_time, bandwidth_lower_bound, bandwidth_higher_bound)\n",
    "def get_next_slot(unavailable: Slots1D, total: Slots1D) -> Slots2D:\n",
    "    res: Slots2D = set()\n",
    "\n",
    "    for t_x1, t_x2, t_h in total:\n",
    "        y_breaks = {0, t_h}\n",
    "        y_breaks.update(uh for _, _, uh in unavailable if uh < t_h)\n",
    "        y_sorted = sorted(y_breaks)\n",
    "\n",
    "        for idx, y1 in enumerate(y_sorted[:-1]):\n",
    "            next_y  = y_sorted[idx + 1]\n",
    "            last_y  = y_sorted[-1]\n",
    "\n",
    "            for y2 in (next_y, last_y):\n",
    "                if y2 <= y1:\n",
    "                    continue\n",
    "\n",
    "                x2_limit = t_x2\n",
    "                for u_x1, _, u_h in sorted(unavailable, key=lambda u: u[0]):\n",
    "                    if u_h > y1 and u_x1 < x2_limit:\n",
    "                        x2_limit = u_x1\n",
    "                        break\n",
    "\n",
    "                res.add((t_x1, x2_limit, y1, y2))\n",
    "\n",
    "    return sorted(res,key=lambda r: (r[2], r[0], -r[3],r[1]))"
   ],
   "id": "e7d3440ec5aadf62",
   "outputs": [],
   "execution_count": 65
  },
  {
   "metadata": {
    "ExecuteTime": {
     "end_time": "2025-07-16T21:59:11.244083Z",
     "start_time": "2025-07-16T21:59:11.239838Z"
    }
   },
   "cell_type": "code",
   "source": [
    "print(get_next_slot(unavailable_slots, total_slots))\n",
    "# unavailable_slots = {(5, 10, 5),(15, 20, 10),(23, 27, 13)}"
   ],
   "id": "8c22e070c042c951",
   "outputs": [
    {
     "name": "stdout",
     "output_type": "stream",
     "text": [
      "[(0, 5, 0, 15), (0, 5, 0, 5), (0, 15, 5, 15), (0, 15, 5, 10), (0, 25, 10, 15), (0, 25, 10, 13), (0, 35, 13, 15)]\n"
     ]
    }
   ],
   "execution_count": 66
  },
  {
   "metadata": {
    "ExecuteTime": {
     "end_time": "2025-07-16T21:59:11.276810Z",
     "start_time": "2025-07-16T21:59:11.270806Z"
    }
   },
   "cell_type": "code",
   "source": [
    "# Get available slots area\n",
    "def compute_slot_areas(slots: List[Rect2D]) -> List[int]:\n",
    "    return [(x2 - x1) * (y2 - y1) for x1, x2, y1, y2 in slots]\n",
    "\n",
    "slot_area = compute_slot_areas(get_next_slot(unavailable_slots, total_slots))\n",
    "slot_area"
   ],
   "id": "1db71ef8a0e930db",
   "outputs": [
    {
     "data": {
      "text/plain": [
       "[75, 25, 150, 75, 125, 75, 70]"
      ]
     },
     "execution_count": 67,
     "metadata": {},
     "output_type": "execute_result"
    }
   ],
   "execution_count": 67
  },
  {
   "metadata": {
    "ExecuteTime": {
     "end_time": "2025-07-16T21:59:11.298854Z",
     "start_time": "2025-07-16T21:59:11.294841Z"
    }
   },
   "cell_type": "code",
   "source": [
    "# Get r area\n",
    "# Assume r: (start_time. end_time, bandwidth)\n",
    "# Area = (end_time - start_time)* bandwidth\n",
    "# before sorted, area result: r = {(x, 1),(y, 2)...,(j, n)}\n",
    "# inserted_r = {(3,9,17),(5,9,11),(0,3,10),(10,15,12)}\n",
    "# sorted by area\n",
    "def r_sorted_by_area(r_seq, reverse=False):\n",
    "    r_list = list(r_seq)\n",
    "    area_with_index = [((end - start) * bw, idx + 1)\n",
    "                       for idx, (start, end, bw) in enumerate(r_list)]\n",
    "    area_with_index.sort(key=lambda x: x[0], reverse=reverse)\n",
    "    return area_with_index"
   ],
   "id": "525708292fbbd65d",
   "outputs": [],
   "execution_count": 68
  },
  {
   "metadata": {
    "ExecuteTime": {
     "end_time": "2025-07-16T21:59:11.314461Z",
     "start_time": "2025-07-16T21:59:11.309397Z"
    }
   },
   "cell_type": "code",
   "source": [
    "area_list = r_sorted_by_area(inserted_r)\n",
    "area_list"
   ],
   "id": "59cc4167cc8d4315",
   "outputs": [
    {
     "data": {
      "text/plain": [
       "[(6, 1), (20, 5), (44, 2), (48, 3), (60, 4)]"
      ]
     },
     "execution_count": 69,
     "metadata": {},
     "output_type": "execute_result"
    }
   ],
   "execution_count": 69
  },
  {
   "metadata": {
    "ExecuteTime": {
     "end_time": "2025-07-16T21:59:11.338064Z",
     "start_time": "2025-07-16T21:59:11.333994Z"
    }
   },
   "cell_type": "code",
   "source": [
    "# for the print_out\n",
    "def ordinal(n):\n",
    "    return f\"{n}{'st' if n==1 else 'nd' if n==2 else 'rd' if n==3 else 'th'}\"\n",
    "    return 0"
   ],
   "id": "61e013a5f7a4033d",
   "outputs": [],
   "execution_count": 70
  },
  {
   "metadata": {
    "ExecuteTime": {
     "end_time": "2025-07-16T21:59:11.375082Z",
     "start_time": "2025-07-16T21:59:11.359667Z"
    }
   },
   "cell_type": "code",
   "source": [
    "#Todo: Need to change variable names\n",
    "#Todo: add comments\n",
    "#Todo: debug for best_over\n",
    "def find_r_slot_with_allocation(r_list, slot_area_list, slot_area):\n",
    "    \"\"\"\n",
    "    Step 1: compare r_list.sum with the first element of slot_area_list\n",
    "    If r_list.sum < first element of slot_area_list, return(\"fitted in the first area\"). If not, go to step 2\n",
    "\n",
    "    Step 2: find the group of r_area best fit the second element of slot_area_list\n",
    "    print out the r_area group, and note them in the second element of slot_area_list\n",
    "    drop these r_area from the r_list\n",
    "\n",
    "    Step 3: compare the rest of r_list.sum with the next element of slot_area_list\n",
    "    If the rest r_list.sum < first element of slot_area_list, return(\"fitted in the third area\"). If not, go to step 4\n",
    "\n",
    "    Step 4: continue doing what step 2 did, but with the next element of slot_area_list after step 3\n",
    "\n",
    "    Step 5: continue doing step 3, 4, but update with return message \"fitted in the fifth/seventh/... area\". Until there is no element in r_list\n",
    "\n",
    "    :param r_list: [(area, which r),...] sorted by area\n",
    "    :param slot_area_list: [area, ...] next avaliable slot\n",
    "    :param slot_area: [(x1,x2,y1,y2),...], list get from get_next_slot()\n",
    "    :return:\n",
    "    \"\"\"\n",
    "    result = []\n",
    "    r_remaining = r_list[:]\n",
    "    allocation = []\n",
    "    wasted = []#\n",
    "    \n",
    "    #Fit whatever can fit first, and then goes: do we need extra slots\n",
    "    total_r = sum(area for area, _ in r_remaining)\n",
    "    even_slots_sum = sum(slot_area_list[i] for i in range(1, len(slot_area_list) - 1, 2)) if len(slot_area_list) > 1 else 0\n",
    "    last_slot_area = slot_area_list[-1] if slot_area_list else 0\n",
    "    if total_r > even_slots_sum + last_slot_area:\n",
    "        return [\"need extend space\"], allocation, wasted\n",
    "\n",
    "    slot_index = 1\n",
    "    i = 0\n",
    "    compare_mode = True\n",
    "\n",
    "    while r_remaining and i < len(slot_area_list):\n",
    "        current_slot_area = slot_area_list[i]\n",
    "        current_slot_rect = slot_area[i]\n",
    "        r_sum = sum(area for area, _ in r_remaining)\n",
    "\n",
    "        if compare_mode:\n",
    "            if r_sum <= current_slot_area:\n",
    "\n",
    "                result.append(f\"All remaining requests {r_remaining} fitted in the {ordinal(slot_index)} area\")\n",
    "                x1, x2, y1, y2 = current_slot_rect\n",
    "                width = x2 - x1\n",
    "                y_cursor = y1\n",
    "                for area, rid in r_remaining:\n",
    "                    h = area / width\n",
    "                    allocation.append((x1, x2, y_cursor, y_cursor + h, rid))\n",
    "                    y_cursor += h\n",
    "                blank_h = y2 - y_cursor\n",
    "                if blank_h > 0:\n",
    "                    wasted.append((x1, x2, y_cursor, y2))\n",
    "                return result, allocation, wasted\n",
    "            print(f\"this is the first time printing{current_slot_area}\")\n",
    "            i += 1\n",
    "            slot_index += 1\n",
    "            compare_mode = False\n",
    "            continue\n",
    "            # if r_sum > current_slot，then switch to next slot，find the group of r_area best fit\n",
    "        \"\"\"\n",
    "        best_fit_r_group:\n",
    "            如果找出来的r_area的集合 = current_slot\n",
    "            return 这个集合\n",
    "            如果找出来的这个集合的area小于current_slot，将这个集合命名为group1：\n",
    "                find a r set just larger than current_slot: group2\n",
    "                current_slot(x2-x1): current_slot的宽度,用slot_area这个list\n",
    "                if:(group2_area - current_slot)/current_slot(x2-x1) > (next_slot(y2) - next_next_slot(y2))\n",
    "                    best_fit_r_group =  group 1\n",
    "                elif:\n",
    "                    get ：current_slot - group1_area: blank_1\n",
    "                current_slot(x2) - next_slot(x2): width\n",
    "                ((group2_area - current_slot)/current_slot(x2-x1))* (current_slot(x2) - next_slot(x2)): blank_2\n",
    "                compare blank_2 and blank_1\n",
    "                    if blank_1 < blank_2,\n",
    "                        best_fit_r_group = group 1\n",
    "                    if blank_2 > current_slot,\n",
    "                        leave current slot blank\n",
    "                    elif blank_1 > blank_2,\n",
    "                        best_fit_r_group = group 2\n",
    "        IF best_fit_r_group = group 2:\n",
    "            next_slot & next_next_slot height both need to - (group2_area - current_slot)/current_slot(x2-x1)\n",
    "        \"\"\"\n",
    "        best_under, best_under_sum = (), 0\n",
    "        best_over, best_over_sum = (), inf\n",
    "        print(current_slot_area)\n",
    "\n",
    "        for n in range(1, len(r_remaining) + 1):\n",
    "            for combo in combinations(r_remaining, n):\n",
    "                s = sum(area for area, _ in combo)\n",
    "                if s <= current_slot_area:\n",
    "                    if s > best_under_sum:\n",
    "                        best_under, best_under_sum = combo, s\n",
    "                    if best_under_sum == current_slot_area:\n",
    "                        break\n",
    "                else:\n",
    "                    if s < best_over_sum:\n",
    "                        best_over, best_over_sum = combo, s\n",
    "            if best_under_sum == current_slot_area:\n",
    "                break\n",
    "\n",
    "        blank_1 = (current_slot_area - best_under_sum) if best_under else inf\n",
    "        blank_2 = inf\n",
    "        if best_over and i + 1 < len(slot_area):\n",
    "            x1, x2, y1, y2 = current_slot_rect\n",
    "            width = x2 - x1\n",
    "            slot_x2 = x2\n",
    "            next_slot_x2 = slot_area[i + 1][1]\n",
    "            blank_2 = ((best_over_sum - current_slot_area) / width) * abs(next_slot_x2 - slot_x2)\n",
    "\n",
    "        if best_under and (len(best_under) > 1 or best_under_sum >= 0.8 * current_slot_area):\n",
    "            best_fit_group = best_under\n",
    "        elif best_over and blank_2 < current_slot_area:\n",
    "            best_fit_group = best_over\n",
    "        else:\n",
    "            result.append(f\"No requests fit in the {ordinal(slot_index)} area\")\n",
    "            i += 1\n",
    "            slot_index += 1\n",
    "            compare_mode = True\n",
    "            continue\n",
    "\n",
    "        if not best_fit_group:\n",
    "            result.append(f\"No requests fit in the {ordinal(slot_index)} area\")\n",
    "        else:\n",
    "            result.append(f\"Requests {list(best_fit_group)} fitted in the {ordinal(slot_index)} area\")\n",
    "            x1, x2, y1, y2 = current_slot_rect\n",
    "            width = x2 - x1\n",
    "            y_cursor = y1\n",
    "            for area, rid in best_fit_group:\n",
    "                h = area / width\n",
    "                allocation.append((x1, x2, y_cursor, y_cursor + h, rid))\n",
    "                y_cursor += h\n",
    "            if y_cursor < y2:\n",
    "                wasted.append((x1, x2, y_cursor, y2))\n",
    "            for val in best_fit_group:\n",
    "                r_remaining.remove(val)\n",
    "\n",
    "        if best_fit_group == best_over and i + 1 < len(slot_area):\n",
    "            x1, x2, y1, y2 = current_slot_rect\n",
    "            delta_h = (best_over_sum - current_slot_area) / (x2 - x1)\n",
    "            for j in (i + 1, i + 2):\n",
    "                if j >= len(slot_area):\n",
    "                    break\n",
    "                xx1, xx2, yy1, yy2 = slot_area[j]\n",
    "                new_y2 = yy2 - delta_h\n",
    "                if new_y2 <= yy1:\n",
    "                    slot_area.pop(j)\n",
    "                    slot_area_list.pop(j)\n",
    "                else:\n",
    "                    slot_area[j] = (xx1, xx2, yy1, new_y2)\n",
    "            slot_area_list[:] = [(x2 - x1) * (y2 - y1) for x1, x2, y1, y2 in slot_area]\n",
    "\n",
    "        i += 1\n",
    "        slot_index += 1\n",
    "        compare_mode = True\n",
    "\n",
    "    if r_remaining:\n",
    "        result.append(f\"These requests fit in the last area: {r_remaining}\")\n",
    "        x1, x2, y1, y2 = slot_area[-1]\n",
    "        width = x2 - x1\n",
    "        y_cursor = y1\n",
    "        for area, rid in r_remaining:\n",
    "            h = area / width\n",
    "            allocation.append((x1, x2, y_cursor, y_cursor + h, rid))\n",
    "            y_cursor += h\n",
    "        if y_cursor < y2:\n",
    "            wasted.append((x1, x2, y_cursor, y2))\n",
    "\n",
    "    return result, allocation, wasted\n"
   ],
   "id": "6ddfdb00e7d89a82",
   "outputs": [],
   "execution_count": 71
  },
  {
   "metadata": {
    "ExecuteTime": {
     "end_time": "2025-07-16T21:59:11.494701Z",
     "start_time": "2025-07-16T21:59:11.388097Z"
    }
   },
   "cell_type": "code",
   "source": [
    "text_output, final_allocation, wasted_slots = find_r_slot_with_allocation(area_list, slot_area, get_next_slot(unavailable_slots, total_slots))\n",
    "\n",
    "import matplotlib.pyplot as plt\n",
    "import matplotlib.patches as patches\n",
    "\n",
    "fig, ax = plt.subplots(figsize=(10, 6))\n",
    "\n",
    "for x1, x2, h in total_slots:\n",
    "    ax.add_patch(patches.Rectangle((x1, 0), x2 - x1, h, fill=False, edgecolor='black', linewidth=1.5))\n",
    "\n",
    "for x1, x2, h in unavailable_slots:\n",
    "    ax.add_patch(patches.Rectangle((x1, 0), x2 - x1, h, color='red', alpha=0.5, label=\"unavailable\"))\n",
    "\n",
    "for x1, x2, y1, y2 in wasted_slots:\n",
    "    wasted_area = (x2 - x1) * (y2 - y1)\n",
    "    ax.add_patch(patches.Rectangle((x1, y1), x2 - x1, y2 - y1,\n",
    "                                   facecolor='none', edgecolor='black', hatch='///', linewidth=1))\n",
    "    ax.text(x1 + (x2 - x1) / 2, y1 + (y2 - y1) / 2,\n",
    "            f\"Wasted: {wasted_area:.1f}\",\n",
    "            ha='center', va='center', fontsize=8, color='black')\n",
    "\n",
    "colors = ['blue', 'green', 'orange', 'purple', 'cyan', 'magenta', 'yellow']\n",
    "\n",
    "for x1, x2, y1, y2, rid in final_allocation:\n",
    "    color = colors[(rid - 1) % len(colors)]\n",
    "    ax.add_patch(patches.Rectangle((x1, y1), x2 - x1, y2 - y1, color=color, alpha=0.7))\n",
    "    ax.text(x1 + 0.5, (y1 + y2) / 2, f\"r{rid}\", fontsize=9, va='center', ha='left', color='white')\n",
    "\n",
    "ax.set_xlim(0, 36)\n",
    "ax.set_ylim(0, 16)\n",
    "ax.set_xlabel(\"Time\")\n",
    "ax.set_ylabel(\"Bandwidth\")\n",
    "plt.grid(True)\n",
    "plt.show(), text_output"
   ],
   "id": "917f9ebb19224a2",
   "outputs": [
    {
     "name": "stdout",
     "output_type": "stream",
     "text": [
      "this is the first time printing75\n",
      "25\n",
      "this is the first time printing150\n",
      "75\n"
     ]
    },
    {
     "data": {
      "text/plain": [
       "<Figure size 1000x600 with 1 Axes>"
      ],
      "image/png": "[encoded data removed]"
     },
     "metadata": {},
     "output_type": "display_data"
    },
    {
     "data": {
      "text/plain": [
       "(None,\n",
       " ['Requests [(20, 5)] fitted in the 2nd area',\n",
       "  'Requests [(6, 1), (60, 4)] fitted in the 4th area',\n",
       "  'All remaining requests [(44, 2), (48, 3)] fitted in the 5th area'])"
      ]
     },
     "execution_count": 72,
     "metadata": {},
     "output_type": "execute_result"
    }
   ],
   "execution_count": 72
  }
 ],
 "metadata": {
  "kernelspec": {
   "display_name": "Python 3",
   "language": "python",
   "name": "python3"
  },
  "language_info": {
   "codemirror_mode": {
    "name": "ipython",
    "version": 2
   },
   "file_extension": ".py",
   "mimetype": "text/x-python",
   "name": "python",
   "nbconvert_exporter": "python",
   "pygments_lexer": "ipython2",
   "version": "2.7.6"
  }
 },
 "nbformat": 4,
 "nbformat_minor": 5
}
